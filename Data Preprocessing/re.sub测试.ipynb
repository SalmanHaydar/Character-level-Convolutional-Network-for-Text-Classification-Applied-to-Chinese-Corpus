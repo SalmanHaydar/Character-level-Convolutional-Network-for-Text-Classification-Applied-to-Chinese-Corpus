{
 "cells": [
  {
   "cell_type": "code",
   "execution_count": 40,
   "metadata": {
    "collapsed": false
   },
   "outputs": [
    {
     "data": {
      "text/plain": [
       "'筚你好 我觉得  你这题做错了                 ，．！？我 啊 的   安慰           哈'"
      ]
     },
     "execution_count": 40,
     "metadata": {},
     "output_type": "execute_result"
    }
   ],
   "source": [
    "import re\n",
    "content = \"筚你好 我觉得ee你这题做错了y,./?!ememah wihd，．！？我,啊.的,.,安慰.,da!@_#!#+哈\"\n",
    "alphabet = \"\"\n",
    "content = re.sub(\"[^\\u4E00-\\u9FFF＼，＼．＼！＼？]\", \" \", content)\n",
    "\n",
    "content\n",
    "\n"
   ]
  },
  {
   "cell_type": "code",
   "execution_count": null,
   "metadata": {
    "collapsed": true
   },
   "outputs": [],
   "source": []
  }
 ],
 "metadata": {
  "kernelspec": {
   "display_name": "Python 3",
   "language": "python",
   "name": "python3"
  },
  "language_info": {
   "codemirror_mode": {
    "name": "ipython",
    "version": 3
   },
   "file_extension": ".py",
   "mimetype": "text/x-python",
   "name": "python",
   "nbconvert_exporter": "python",
   "pygments_lexer": "ipython3",
   "version": "3.5.1"
  }
 },
 "nbformat": 4,
 "nbformat_minor": 0
}
