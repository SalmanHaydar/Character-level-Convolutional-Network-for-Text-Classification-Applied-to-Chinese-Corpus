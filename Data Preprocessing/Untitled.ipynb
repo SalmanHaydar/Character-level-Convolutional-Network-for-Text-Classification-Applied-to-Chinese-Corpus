{
 "cells": [
  {
   "cell_type": "code",
   "execution_count": 1,
   "metadata": {
    "collapsed": false
   },
   "outputs": [
    {
     "name": "stderr",
     "output_type": "stream",
     "text": [
      "Using TensorFlow backend.\n"
     ]
    }
   ],
   "source": [
    "import pandas as pd\n",
    "import numpy as np\n",
    "from keras.preprocessing import sequence\n",
    "from keras.models import Sequential\n",
    "from keras.layers import Dense, Dropout, Activation, Lambda, Flatten\n",
    "from keras.layers import Embedding\n",
    "from keras.layers import Convolution1D, MaxPooling1D\n",
    "from keras.datasets import imdb\n",
    "from keras import backend as K\n",
    "import re\n",
    "from keras.utils import np_utils\n",
    "from keras.preprocessing import text\n",
    "from keras.callbacks import ModelCheckpoint\n",
    "from keras.regularizers import l2\n",
    "\n"
   ]
  },
  {
   "cell_type": "code",
   "execution_count": 9,
   "metadata": {
    "collapsed": false
   },
   "outputs": [
    {
     "name": "stdout",
     "output_type": "stream",
     "text": [
      "4    169321\n",
      "3    120955\n",
      "0     90589\n",
      "2     78166\n",
      "1     31686\n",
      "Name: classes, dtype: int64\n",
      "4    29880\n",
      "3    21345\n",
      "0    15986\n",
      "2    13794\n",
      "1     5592\n",
      "Name: classes, dtype: int64\n"
     ]
    }
   ],
   "source": [
    "datatrain = pd.read_csv(\"new_CSV_Data/raw_chinese_train.csv\", header=0)\n",
    "datatest = pd.read_csv(\"new_CSV_Data/raw_chinese_test.csv\", header=0)\n",
    "print(datatrain['classes'].value_counts())\n",
    "print(datatest['classes'].value_counts())"
   ]
  },
  {
   "cell_type": "code",
   "execution_count": 6,
   "metadata": {
    "collapsed": false
   },
   "outputs": [
    {
     "name": "stdout",
     "output_type": "stream",
     "text": [
      "4    169321\n",
      "3    120955\n",
      "0     90589\n",
      "2     78166\n",
      "1     31686\n",
      "Name: classes, dtype: int64\n",
      "4    29880\n",
      "3    21345\n",
      "0    15986\n",
      "2    13794\n",
      "1     5592\n",
      "Name: classes, dtype: int64\n"
     ]
    },
    {
     "data": {
      "text/plain": [
       "<bound method NDFrame.head of        classes                                            content\n",
       "0            0  zhǔ tí ：［ tiē tú ］ lún dūn ào yùn zuì lìng rén...\n",
       "1            0  kàn bù qīng shù zì ？ wén zhāng lèi xíng ：　 pǔ ...\n",
       "2            0  zhǔ tí ：［ jīn qiú jiǎng ］ hā wéi ， yí gè tuán ...\n",
       "3            0  zhǔ tí ：［ tiē tú ］ zú qiú jù xīng ＳＵＰＲＡ qiú xi...\n",
       "4            0  jīn yú pò shěn měi pí láo 　 mǎ bù lǐ cù ＣＢＡ xī...\n",
       "5            0  zhǔ tí ： xī jiǎ dì ２１ lún ： huáng jiā mǎ dé lǐ...\n",
       "6            0  zhǔ tí ：Ｒｅ： yú jué mǐn shè yí bīng jì 　 wǔ zhā...\n",
       "7            0  zhǔ tí ：［ yuán chuàng ］ xiě zài jīng lǔ bǐ sài...\n",
       "8            0  zhǔ tí ：［ yuán chuàng ］［ ā fēi zǔ ］ dà zhàn zh...\n",
       "9            0  zhǔ tí ：［ yuán chuàng ］ bié rén de gù shì bié ...\n",
       "10           0  kàn bù qīng shù zì ？ wén zhāng lèi xíng ：　 pǔ ...\n",
       "11           0  kàn bù qīng shù zì ？ wén zhāng lèi xíng ：　 pǔ ...\n",
       "12           0  zhǔ tí ：［ yuán chuàng ］ wǒ de yé yé jīn tiān l...\n",
       "13           0  kàn bù qīng shù zì ？ wén zhāng lèi xíng ：　 pǔ ...\n",
       "14           0  kàn bù qīng shù zì ？ wén zhāng lèi xíng ：　 pǔ ...\n",
       "15           0  xī bān yá nán zú gāng yá lì máo shí zhì míng g...\n",
       "16           0  kàn bù qīng shù zì ？ wén zhāng lèi xíng ：　 pǔ ...\n",
       "17           0  ｌｙｈ５０５８＠ｓｏｈｕ lán qiú rén wù 　 lán tián xiá yù ...\n",
       "18           0  zhǔ tí ：［ yuán chuàng ］ tiān biān de nǐ tiān b...\n",
       "19           0  qiāng shǒu men ， xiàng gè nán rén qù zhàn dòu ...\n",
       "20           0  zhǔ tí ： zú zǒng bēi ： qiè ěr xī ４－５ āi fú dùn...\n",
       "21           0  tú wén ： jí lín dōng běi hǔ lán qiú xùn liàn y...\n",
       "22           0  yáo míng ： yīng jǐ yǔ dèng huá dé nài xīn 　 gu...\n",
       "23           0  zhàn shèng nán lán zhǎn xiàn bù sú shí lì 　 sū...\n",
       "24           0  yī dà sì xiǎo hěn jiǎ hěn cuì ruò 　 zhì lián z...\n",
       "25           0  dèng huá dé xiào tán bú huì cái diào wáng zhì ...\n",
       "26           0  yáng bàn bàn bā nián ào yùn mèng xiǎng gē qiǎn...\n",
       "27           0  nǚ lán shǒu rì zōng shù ： zhōng guó qǔ kāi mén...\n",
       "28           0  ＪＲ zhí yè shēng yá mò qī hái xiǎng lái zhōng g...\n",
       "29           0  zǔ tú ： shì qīng sài zhōng guó fù jiā ná dà 　 ...\n",
       "...        ...                                                ...\n",
       "86567        4  dāng dāng wǎng zài bèi pù xiāo shòu jiǎ kǎ xī ...\n",
       "86568        4  nuò jī yà jì huà qī yuè duì ＷＰ７ shǒu jī zài cì...\n",
       "86569        4  shù mǎ mèng gōng chǎng ：１４Ｒ　Ｔｕｒｂｏ dài nǐ ＰＳ sī...\n",
       "86570        4  dì èr dài chāo jí běn 　 shī zhǎn mó fǎ zài Ｃｏｍ...\n",
       "86571        4  píng lùn ：“ fù miàn xīn wén ” yuán hé chéng wǎ...\n",
       "86572        4  léi jūn ： xiǎo mǐ shǒu jī lì rùn chāo yī chéng...\n",
       "86573        4  ５８ tóng chéng yù zhuǎn xíng shēng huó fú wù di...\n",
       "86574        4  ＭＯＴＯ xié shǒu xīn làng fā bù wēi yīn lè shǒu j...\n",
       "86575        4  mǎ wèi huá ： hù lián wǎng jīn róng wēi xié yín...\n",
       "86576        4  ＬＥＤ zhào míng suī jié néng jià gé mén kǎn xū t...\n",
       "86577        4  dì sān fāng zhī fù zhǎng dà yín xíng yòu ài yò...\n",
       "86578        4  gǎo xiào chuàng zuò héng xíng wǎng luò ： jì sh...\n",
       "86579        4  huá shuò fā bù zuì xīn qí jiàn xíng píng bǎn d...\n",
       "86580        4  chuán fù shì kāng dǎ suàn jìn rù xià pǔ dǒng s...\n",
       "86581        4  chuàng wéi quán nián cǎi diàn xiāo liàng chōng...\n",
       "86582        4  wēi ruǎn niǔ tuí shì xū jiě gù bào ěr mò ？　 gà...\n",
       "86583        4  hǎi diàn měi ３ tiān yī bù “ píng guǒ ” bèi dào...\n",
       "86584        4  qīng shào nián jì suàn jī biǎo yǎn dà sài jǔ x...\n",
       "86585        4  chàn dǒu ba ｉＰａｄ　 wēi ruǎn Ｓｕｒｆａｃｅ píng bǎn zh...\n",
       "86586        4  shì pín wǎng zhàn yǒu wàng yíng lái yíng lì qī...\n",
       "86587        4  ＣＮＮＩＣ fā duō yǔ zhǒng yóu xiāng diàn yóu jì sh...\n",
       "86588        4  ā lǐ tǐng jìn é luō sī zài xià yī chéng 　 xié ...\n",
       "86589        4  ＣＣＥＳ wēi jī fā jiào ： jiā méng shāng qí jí shà...\n",
       "86590        4  dào lún dūn kě yòng diàn xìn ＷｉＦｉ shàng wǎng z...\n",
       "86591        4  fèn nù de xiǎo niǎo hòu xù shén zuò 　Ａｍａｚｉｎｇ　Ａ...\n",
       "86592        4  gōng xìn bù ： wǒ guó diàn huà yòng hù dá １３．２ ...\n",
       "86593        4  ＡＭＤ jìn jūn chāo qīng báo běn shì chǎng yǔ yīn...\n",
       "86594        4  bǎi dù jīng yàn qǐ dòng zuò zhě gǎo chóu jì hu...\n",
       "86595        4  píng mù jiāng chéng ＰＣ xīn xué tou 　 rì běn bǐ...\n",
       "86596        4  qián jiā jiào bào liào dèng wén dí jiā zhōng c...\n",
       "\n",
       "[86597 rows x 2 columns]>"
      ]
     },
     "execution_count": 6,
     "metadata": {},
     "output_type": "execute_result"
    }
   ],
   "source": []
  },
  {
   "cell_type": "code",
   "execution_count": null,
   "metadata": {
    "collapsed": true
   },
   "outputs": [],
   "source": []
  }
 ],
 "metadata": {
  "kernelspec": {
   "display_name": "Python 3",
   "language": "python",
   "name": "python3"
  },
  "language_info": {
   "codemirror_mode": {
    "name": "ipython",
    "version": 3
   },
   "file_extension": ".py",
   "mimetype": "text/x-python",
   "name": "python",
   "nbconvert_exporter": "python",
   "pygments_lexer": "ipython3",
   "version": "3.5.1"
  }
 },
 "nbformat": 4,
 "nbformat_minor": 0
}
