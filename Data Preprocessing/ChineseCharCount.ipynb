{
 "cells": [
  {
   "cell_type": "code",
   "execution_count": 1,
   "metadata": {
    "collapsed": true
   },
   "outputs": [],
   "source": [
    "# coding: utf-8\n",
    "import pandas as pd\n",
    "from pypinyin import pinyin, lazy_pinyin\n",
    "import pypinyin\n",
    "import csv\n",
    "import os\n",
    "# 分割同比例的训练集和测试集\n",
    "raw_chinese = pd.read_csv(\"../Raw data/Merged_Data_raw chinese format.csv\", header=0)\n",
    "train = pd.read_csv(\"../new_CSV_Data/raw_chinese_train.csv\", header=0)\n",
    "test = pd.read_csv(\"../new_CSV_Data/raw_chinese_test.csv\", header=0)"
   ]
  },
  {
   "cell_type": "code",
   "execution_count": 2,
   "metadata": {
    "collapsed": false
   },
   "outputs": [
    {
     "name": "stdout",
     "output_type": "stream",
     "text": [
      "4    199201\n",
      "3    142300\n",
      "0    106575\n",
      "2     91960\n",
      "1     37278\n",
      "Name: classes, dtype: int64\n",
      "4    169321\n",
      "3    120955\n",
      "0     90589\n",
      "2     78166\n",
      "1     31686\n",
      "Name: classes, dtype: int64\n",
      "4    29880\n",
      "3    21345\n",
      "0    15986\n",
      "2    13794\n",
      "1     5592\n",
      "Name: classes, dtype: int64\n"
     ]
    }
   ],
   "source": [
    "print(raw_chinese['classes'].value_counts())\n",
    "print(train['classes'].value_counts())\n",
    "print(test['classes'].value_counts())"
   ]
  },
  {
   "cell_type": "code",
   "execution_count": null,
   "metadata": {
    "collapsed": true
   },
   "outputs": [],
   "source": []
  }
 ],
 "metadata": {
  "kernelspec": {
   "display_name": "Python 3",
   "language": "python",
   "name": "python3"
  },
  "language_info": {
   "codemirror_mode": {
    "name": "ipython",
    "version": 3
   },
   "file_extension": ".py",
   "mimetype": "text/x-python",
   "name": "python",
   "nbconvert_exporter": "python",
   "pygments_lexer": "ipython3",
   "version": "3.5.1"
  }
 },
 "nbformat": 4,
 "nbformat_minor": 0
}
