{
 "cells": [
  {
   "cell_type": "code",
   "execution_count": 1,
   "metadata": {
    "collapsed": false
   },
   "outputs": [
    {
     "name": "stdout",
     "output_type": "stream",
     "text": [
      "5 doc\n",
      "5 url\n",
      "4 docno\n",
      "4 contenttitle\n",
      "4 content\n",
      "0 root\n"
     ]
    }
   ],
   "source": [
    "from bs4 import BeautifulSoup\n",
    "from lxml.html import parse\n",
    "\n",
    "soup = BeautifulSoup(open(\"/Users/HUANGWEIJIE/Desktop/sogou_news_chinese_corpus/2012/sohusite_utf8.dat\"), \"lxml\")\n",
    "print(len(soup.find_all('doc')), \"doc\")\n",
    "print(len(soup.find_all('url')), \"url\")\n",
    "print(len(soup.find_all('docno')), \"docno\")\n",
    "print(len(soup.find_all('contenttitle')), \"contenttitle\")\n",
    "print(len(soup.find_all('content')), \"content\")\n",
    "print(len(soup.find_all('root')), \"root\")\n"
   ]
  },
  {
   "cell_type": "code",
   "execution_count": 30,
   "metadata": {
    "collapsed": false
   },
   "outputs": [
    {
     "name": "stdout",
     "output_type": "stream",
     "text": [
      "352999 doc\n",
      "352999 url\n",
      "352999 docno\n",
      "352999 contenttitle\n",
      "352999 content\n",
      "0 root\n"
     ]
    }
   ],
   "source": [
    "from bs4 import BeautifulSoup\n",
    "from lxml.html import parse\n",
    "\n",
    "\n",
    "soup = BeautifulSoup(open(\"/Users/HUANGWEIJIE/Desktop/sogou_news_chinese_corpus/2012/tensite_utf8.dat\"), \"lxml\")\n",
    "print(len(soup.find_all('doc')), \"doc\")\n",
    "print(len(soup.find_all('url')), \"url\")\n",
    "print(len(soup.find_all('docno')), \"docno\")\n",
    "print(len(soup.find_all('contenttitle')), \"contenttitle\")\n",
    "print(len(soup.find_all('content')), \"content\")\n",
    "print(len(soup.find_all('root')), \"root\")"
   ]
  },
  {
   "cell_type": "code",
   "execution_count": null,
   "metadata": {
    "collapsed": true
   },
   "outputs": [],
   "source": []
  }
 ],
 "metadata": {
  "kernelspec": {
   "display_name": "Python 3",
   "language": "python",
   "name": "python3"
  },
  "language_info": {
   "codemirror_mode": {
    "name": "ipython",
    "version": 3
   },
   "file_extension": ".py",
   "mimetype": "text/x-python",
   "name": "python",
   "nbconvert_exporter": "python",
   "pygments_lexer": "ipython3",
   "version": "3.5.1"
  }
 },
 "nbformat": 4,
 "nbformat_minor": 0
}
