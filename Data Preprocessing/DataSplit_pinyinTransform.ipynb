{
 "cells": [
  {
   "cell_type": "code",
   "execution_count": 3,
   "metadata": {
    "collapsed": false
   },
   "outputs": [
    {
     "name": "stderr",
     "output_type": "stream",
     "text": [
      "Building prefix dict from the default dictionary ...\n",
      "Dumping model to file cache /var/folders/qm/wsc39tss77397prdrh56ym7w0000gn/T/jieba.cache\n",
      "Loading model cost 1.306 seconds.\n",
      "Prefix dict has been built succesfully.\n"
     ]
    }
   ],
   "source": [
    "# coding: utf-8\n",
    "import pandas as pd\n",
    "from pypinyin import pinyin, lazy_pinyin\n",
    "import pypinyin\n",
    "import csv\n",
    "import os\n",
    "\n",
    "datatrain = pd.read_csv(\"../Raw data/Merged_Data_raw chinese format.csv\", header=0)\n",
    "\n",
    "\n",
    "# 转成pinyin形式\n",
    "with open(os.path.join('late_CSV_Data', 'Merged_Data_pinyin_format_pypinyin.TONE1.csv'), 'w') as fhandle:\n",
    "    writer = csv.writer(fhandle)\n",
    "    writer.writerow(('classes', 'content'))\n",
    "    for label, cont in zip( datatrain.classes, datatrain.content):\n",
    "        content = pinyin(cont, style = 1, errors = \"ignore\")\n",
    "        content_list = []\n",
    "        for sub in content:\n",
    "            content_list.append(str(sub[0]))\n",
    "        result = \" \".join(content_list)\n",
    "        writer.writerow((label, result))\n"
   ]
  },
  {
   "cell_type": "code",
   "execution_count": 48,
   "metadata": {
    "collapsed": true
   },
   "outputs": [],
   "source": [
    "\n",
    "# 分割同比例的训练集和测试集\n",
    "raw_chinese = pd.read_csv(\"../new_CSV_Data/Merged_Data_raw chinese format.csv\", header=0)\n",
    "Tone1 = pd.read_csv(\"../new_CSV_Data/Merged_Data_pinyin_format_pypinyin.TONE.csv\", header=0)\n",
    "Tone2 = pd.read_csv(\"../new_CSV_Data/Merged_Data_pinyin_format_pypinyin.TONE2.csv\", header=0)"
   ]
  },
  {
   "cell_type": "code",
   "execution_count": 4,
   "metadata": {
    "collapsed": true
   },
   "outputs": [],
   "source": [
    "Tone1 = pd.read_csv(\"late_CSV_Data/Merged_Data_pinyin_format_pypinyin.TONE1.csv\", header=0)\n",
    "Tone1_0  = Tone1[Tone1.classes == 0]\n",
    "Tone1_1  = Tone1[Tone1.classes == 1]\n",
    "Tone1_2  = Tone1[Tone1.classes == 2]\n",
    "Tone1_3  = Tone1[Tone1.classes == 3]\n",
    "Tone1_4  = Tone1[Tone1.classes == 4]\n",
    "\n",
    "#-----Tone1\n",
    "\n",
    "Tone1_0_train = Tone1_0.sample(frac=0.85)\n",
    "Tone1_0_test =  Tone1_0.loc[~Tone1_0.index.isin(Tone1_0_train.index)]\n",
    "\n",
    "Tone1_1_train = Tone1_1.sample(frac=0.85)\n",
    "Tone1_1_test =  Tone1_1.loc[~Tone1_1.index.isin(Tone1_1_train.index)]\n",
    "\n",
    "Tone1_2_train = Tone1_2.sample(frac=0.85)\n",
    "Tone1_2_test =  Tone1_2.loc[~Tone1_2.index.isin(Tone1_2_train.index)]\n",
    "\n",
    "Tone1_3_train = Tone1_3.sample(frac=0.85)\n",
    "Tone1_3_test =  Tone1_3.loc[~Tone1_3.index.isin(Tone1_3_train.index)]\n",
    "\n",
    "Tone1_4_train = Tone1_4.sample(frac=0.85)\n",
    "Tone1_4_test =  Tone1_4.loc[~Tone1_4.index.isin(Tone1_4_train.index)]\n",
    "\n",
    "Tone1_train = Tone1_0_train.append(Tone1_1_train)\n",
    "Tone1_train = Tone1_train.append(Tone1_2_train)\n",
    "Tone1_train = Tone1_train.append(Tone1_3_train)\n",
    "Tone1_train = Tone1_train.append(Tone1_4_train)\n",
    "\n",
    "Tone1_test = Tone1_0_test.append(Tone1_1_test)\n",
    "Tone1_test = Tone1_test.append(Tone1_2_test)\n",
    "Tone1_test = Tone1_test.append(Tone1_3_test)\n",
    "Tone1_test = Tone1_test.append(Tone1_4_test)\n",
    "\n",
    "Tone1_train.to_csv(\"Tone1_train.csv\", index = False, header = True)\n",
    "Tone1_test.to_csv(\"Tone1_test.csv\", index = False, header = True)\n",
    "\n",
    "\n"
   ]
  },
  {
   "cell_type": "code",
   "execution_count": null,
   "metadata": {
    "collapsed": true
   },
   "outputs": [],
   "source": []
  },
  {
   "cell_type": "code",
   "execution_count": null,
   "metadata": {
    "collapsed": true
   },
   "outputs": [],
   "source": []
  },
  {
   "cell_type": "code",
   "execution_count": null,
   "metadata": {
    "collapsed": true
   },
   "outputs": [],
   "source": []
  },
  {
   "cell_type": "code",
   "execution_count": 49,
   "metadata": {
    "collapsed": false,
    "scrolled": true
   },
   "outputs": [
    {
     "name": "stdout",
     "output_type": "stream",
     "text": [
      "4    199201\n",
      "3    142300\n",
      "0    106575\n",
      "2     91960\n",
      "1     37278\n",
      "Name: classes, dtype: int64\n",
      "4    199201\n",
      "3    142300\n",
      "0    106575\n",
      "2     91960\n",
      "1     37278\n",
      "Name: classes, dtype: int64\n",
      "4    199201\n",
      "3    142300\n",
      "0    106575\n",
      "2     91960\n",
      "1     37278\n",
      "Name: classes, dtype: int64\n"
     ]
    }
   ],
   "source": [
    "print(raw_chinese['classes'].value_counts())\n",
    "print(Tone1['classes'].value_counts())\n",
    "print(Tone2['classes'].value_counts())"
   ]
  },
  {
   "cell_type": "code",
   "execution_count": 52,
   "metadata": {
    "collapsed": false,
    "scrolled": true
   },
   "outputs": [],
   "source": [
    "raw_chinese_0  = raw_chinese[raw_chinese.classes == 0]\n",
    "raw_chinese_1  = raw_chinese[raw_chinese.classes == 1]\n",
    "raw_chinese_2  = raw_chinese[raw_chinese.classes == 2]\n",
    "raw_chinese_3  = raw_chinese[raw_chinese.classes == 3]\n",
    "raw_chinese_4  = raw_chinese[raw_chinese.classes == 4]\n",
    "\n",
    "Tone1_0  = Tone1[Tone1.classes == 0]\n",
    "Tone1_1  = Tone1[Tone1.classes == 1]\n",
    "Tone1_2  = Tone1[Tone1.classes == 2]\n",
    "Tone1_3  = Tone1[Tone1.classes == 3]\n",
    "Tone1_4  = Tone1[Tone1.classes == 4]\n",
    "\n",
    "Tone2_0  = Tone2[Tone2.classes == 0]\n",
    "Tone2_1  = Tone2[Tone2.classes == 1]\n",
    "Tone2_2  = Tone2[Tone2.classes == 2]\n",
    "Tone2_3  = Tone2[Tone2.classes == 3]\n",
    "Tone2_4  = Tone2[Tone2.classes == 4]\n",
    "\n",
    "#-----raw_chinese\n",
    "\n",
    "raw_chinese_0_train = raw_chinese_0.sample(frac=0.85)\n",
    "raw_chinese_0_test =  raw_chinese_0.loc[~raw_chinese_0.index.isin(raw_chinese_0_train.index)]\n",
    "\n",
    "raw_chinese_1_train = raw_chinese_1.sample(frac=0.85)\n",
    "raw_chinese_1_test =  raw_chinese_1.loc[~raw_chinese_1.index.isin(raw_chinese_1_train.index)]\n",
    "\n",
    "raw_chinese_2_train = raw_chinese_2.sample(frac=0.85)\n",
    "raw_chinese_2_test =  raw_chinese_2.loc[~raw_chinese_2.index.isin(raw_chinese_2_train.index)]\n",
    "\n",
    "raw_chinese_3_train = raw_chinese_3.sample(frac=0.85)\n",
    "raw_chinese_3_test =  raw_chinese_3.loc[~raw_chinese_3.index.isin(raw_chinese_3_train.index)]\n",
    "\n",
    "raw_chinese_4_train = raw_chinese_4.sample(frac=0.85)\n",
    "raw_chinese_4_test =  raw_chinese_4.loc[~raw_chinese_4.index.isin(raw_chinese_4_train.index)]\n",
    "\n",
    "raw_chinese_train = raw_chinese_0_train.append(raw_chinese_1_train)\n",
    "raw_chinese_train = raw_chinese_train.append(raw_chinese_2_train)\n",
    "raw_chinese_train = raw_chinese_train.append(raw_chinese_3_train)\n",
    "raw_chinese_train = raw_chinese_train.append(raw_chinese_4_train)\n",
    "\n",
    "raw_chinese_test = raw_chinese_0_test.append(raw_chinese_1_test)\n",
    "raw_chinese_test = raw_chinese_test.append(raw_chinese_2_test)\n",
    "raw_chinese_test = raw_chinese_test.append(raw_chinese_3_test)\n",
    "raw_chinese_test = raw_chinese_test.append(raw_chinese_4_test)\n",
    "\n",
    "#-----Tone1\n",
    "\n",
    "Tone1_0_train = Tone1_0.sample(frac=0.85)\n",
    "Tone1_0_test =  Tone1_0.loc[~Tone1_0.index.isin(Tone1_0_train.index)]\n",
    "\n",
    "Tone1_1_train = Tone1_1.sample(frac=0.85)\n",
    "Tone1_1_test =  Tone1_1.loc[~Tone1_1.index.isin(Tone1_1_train.index)]\n",
    "\n",
    "Tone1_2_train = Tone1_2.sample(frac=0.85)\n",
    "Tone1_2_test =  Tone1_2.loc[~Tone1_2.index.isin(Tone1_2_train.index)]\n",
    "\n",
    "Tone1_3_train = Tone1_3.sample(frac=0.85)\n",
    "Tone1_3_test =  Tone1_3.loc[~Tone1_3.index.isin(Tone1_3_train.index)]\n",
    "\n",
    "Tone1_4_train = Tone1_4.sample(frac=0.85)\n",
    "Tone1_4_test =  Tone1_4.loc[~Tone1_4.index.isin(Tone1_4_train.index)]\n",
    "\n",
    "Tone1_train = Tone1_0_train.append(Tone1_1_train)\n",
    "Tone1_train = Tone1_train.append(Tone1_2_train)\n",
    "Tone1_train = Tone1_train.append(Tone1_3_train)\n",
    "Tone1_train = Tone1_train.append(Tone1_4_train)\n",
    "\n",
    "Tone1_test = Tone1_0_test.append(Tone1_1_test)\n",
    "Tone1_test = Tone1_test.append(Tone1_2_test)\n",
    "Tone1_test = Tone1_test.append(Tone1_3_test)\n",
    "Tone1_test = Tone1_test.append(Tone1_4_test)\n",
    "\n",
    "#-----Tone2\n",
    "\n",
    "Tone2_0_train = Tone2_0.sample(frac=0.85)\n",
    "Tone2_0_test =  Tone2_0.loc[~Tone2_0.index.isin(Tone2_0_train.index)]\n",
    "\n",
    "Tone2_1_train = Tone2_1.sample(frac=0.85)\n",
    "Tone2_1_test =  Tone2_1.loc[~Tone2_1.index.isin(Tone2_1_train.index)]\n",
    "\n",
    "Tone2_2_train = Tone2_2.sample(frac=0.85)\n",
    "Tone2_2_test =  Tone2_2.loc[~Tone2_2.index.isin(Tone2_2_train.index)]\n",
    "\n",
    "Tone2_3_train = Tone2_3.sample(frac=0.85)\n",
    "Tone2_3_test =  Tone2_3.loc[~Tone2_3.index.isin(Tone2_3_train.index)]\n",
    "\n",
    "Tone2_4_train = Tone2_4.sample(frac=0.85)\n",
    "Tone2_4_test =  Tone2_4.loc[~Tone2_4.index.isin(Tone2_4_train.index)]\n",
    "\n",
    "Tone2_train = Tone2_0_train.append(Tone2_1_train)\n",
    "Tone2_train = Tone2_train.append(Tone2_2_train)\n",
    "Tone2_train = Tone2_train.append(Tone2_3_train)\n",
    "Tone2_train = Tone2_train.append(Tone2_4_train)\n",
    "\n",
    "Tone2_test = Tone2_0_test.append(Tone2_1_test)\n",
    "Tone2_test = Tone2_test.append(Tone2_2_test)\n",
    "Tone2_test = Tone2_test.append(Tone2_3_test)\n",
    "Tone2_test = Tone2_test.append(Tone2_4_test)\n",
    "\n",
    "#-----Combine\n",
    "\n",
    "Cobmbine_train = Tone1_train.append(Tone2_train)\n",
    "Combine_test = Tone1_test.append(Tone2_test)\n",
    "\n",
    "\n",
    "'''\n",
    "raw_chinese_train\n",
    "raw_chinese_test\n",
    "\n",
    "Tone1_train\n",
    "Tone1_test\n",
    "\n",
    "Tone2_train\n",
    "Tone2_test\n",
    "\n",
    "Cobmbine_train = Tone1_train + Tone2_train\n",
    "Combine_test = Tone1_test + Tone2_test\n",
    "\n",
    "'''\n",
    "\n",
    "\n",
    "raw_chinese_train.to_csv(\"raw_chinese_train.csv\", index = False, header = True)\n",
    "raw_chinese_test.to_csv(\"raw_chinese_test.csv\", index = False, header = True)\n",
    "\n",
    "Tone1_train.to_csv(\"Tone1_train.csv\", index = False, header = True)\n",
    "Tone1_test.to_csv(\"Tone1_test.csv\", index = False, header = True)\n",
    "\n",
    "Tone2_train.to_csv(\"Tone2_train.csv\", index = False, header = True)\n",
    "Tone2_test.to_csv(\"Tone2_test.csv\", index = False, header = True)\n",
    "\n",
    "Cobmbine_train.to_csv(\"Cobmbine_train.csv\", index = False, header = True)\n",
    "Combine_test.to_csv(\"Combine_test.csv\", index = False, header = True)\n",
    "\n",
    "\n"
   ]
  },
  {
   "cell_type": "code",
   "execution_count": null,
   "metadata": {
    "collapsed": true
   },
   "outputs": [],
   "source": []
  }
 ],
 "metadata": {
  "kernelspec": {
   "display_name": "Python 3",
   "language": "python",
   "name": "python3"
  },
  "language_info": {
   "codemirror_mode": {
    "name": "ipython",
    "version": 3
   },
   "file_extension": ".py",
   "mimetype": "text/x-python",
   "name": "python",
   "nbconvert_exporter": "python",
   "pygments_lexer": "ipython3",
   "version": "3.5.1"
  }
 },
 "nbformat": 4,
 "nbformat_minor": 0
}
